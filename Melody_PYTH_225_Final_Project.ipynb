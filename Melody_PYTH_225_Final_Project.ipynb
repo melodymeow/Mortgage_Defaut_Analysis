{
  "nbformat": 4,
  "nbformat_minor": 0,
  "metadata": {
    "colab": {
      "name": "Melody_PYTH 225 Final Project.ipynb",
      "provenance": [],
      "collapsed_sections": [],
      "authorship_tag": "ABX9TyOqlpLdAGSB4JAwXVQg4Joj",
      "include_colab_link": true
    },
    "kernelspec": {
      "name": "python3",
      "display_name": "Python 3"
    }
  },
  "cells": [
    {
      "cell_type": "markdown",
      "metadata": {
        "id": "view-in-github",
        "colab_type": "text"
      },
      "source": [
        "<a href=\"https://colab.research.google.com/github/melodymeow/Mortgage_Defaut_Analysis/blob/master/Melody_PYTH_225_Final_Project.ipynb\" target=\"_parent\"><img src=\"https://colab.research.google.com/assets/colab-badge.svg\" alt=\"Open In Colab\"/></a>"
      ]
    },
    {
      "cell_type": "markdown",
      "metadata": {
        "id": "tv5aYEsjkCV1",
        "colab_type": "text"
      },
      "source": [
        "# **Final Project: Historical Mortage Performance**\n",
        "this project is to\n",
        "\n",
        "\n",
        "1.   Clean mortgage data\n",
        "2.   append HPI and unemployment data\n",
        "3. calculate prepayment/default\n",
        "4. correlationb between prepayment, default with HPI and unemployment data\n",
        "5. graph any state the delinquency rate against that state's HPI data\n",
        "\n",
        "\n",
        "\n"
      ]
    },
    {
      "cell_type": "code",
      "metadata": {
        "id": "-lcjnGSgUfhf",
        "colab_type": "code",
        "colab": {}
      },
      "source": [
        ""
      ],
      "execution_count": 0,
      "outputs": []
    },
    {
      "cell_type": "code",
      "metadata": {
        "id": "IBU07tXWiMNl",
        "colab_type": "code",
        "outputId": "4e19d5f2-6c97-44f8-fc98-7ece049e76b4",
        "colab": {
          "base_uri": "https://localhost:8080/",
          "height": 35
        }
      },
      "source": [
        "import requests\n",
        "import pandas as pd\n",
        "import numpy as np\n",
        "\n",
        "import matplotlib.pyplot as plt\n",
        "%matplotlib inline\n",
        "import seaborn as sns\n",
        "from datetime import datetime\n",
        "\n",
        "print('import successful')\n"
      ],
      "execution_count": 0,
      "outputs": [
        {
          "output_type": "stream",
          "text": [
            "import successful\n"
          ],
          "name": "stdout"
        }
      ]
    },
    {
      "cell_type": "markdown",
      "metadata": {
        "id": "DMmNtGIWjRnp",
        "colab_type": "text"
      },
      "source": [
        "# **Import Data**"
      ]
    },
    {
      "cell_type": "code",
      "metadata": {
        "id": "5XPr42YVjXn_",
        "colab_type": "code",
        "colab": {}
      },
      "source": [
        "#upload local data to colab folder in order to import the data\n",
        "\n",
        "#import deqlinquency data from federal reserve by quarter\n",
        "url = 'https://www.federalreserve.gov/releases/chargeoff/delallsa.htm'\n",
        "html = requests.get(url).content\n",
        "delinquency_list = pd.read_html(html)\n",
        "dq = delinquency_list[2]\n",
        "dq.columns = ['Date','All Real Estate Loan','Residential','Commercial','Farmland','All Consumer','Credit Card','Other Consumer','Leases','C&I Loans','Agricultural Loans','Total Loans and Leases']\n",
        "cols = dq.columns.drop('Date')\n",
        "dq[cols] = dq[cols].apply(pd.to_numeric,errors = 'coerce')\n",
        "\n",
        "#delinquency data by states and year from consumer bureau \n",
        "dqstate_90plus = pd.read_csv('90daysDQ.csv')\n",
        "dqstate_30to89 = pd.read_csv('30-89daysDQ.csv')\n",
        "\n",
        "#import HPI Data\n",
        "hpi = pd.read_csv('HPI_AT_state.csv',header=None)\n",
        "hpi.columns = ['States','Year','Quarter','HPI']\n",
        "hpi['HPI'] = pd.to_numeric(hpi['HPI'],errors = 'coerce')\n",
        "\n",
        "#unemployment data from department of bureau\n",
        "unemployment = pd.read_excel('unemployment data.xlsx')\n",
        "unemployment = unemployment.tail(12)\n",
        "unemployment.columns = unemployment.iloc[0]\n",
        "unemployment = unemployment[1:]\n",
        "unemployment.set_index('Year',drop = True,inplace = True)\n"
      ],
      "execution_count": 0,
      "outputs": []
    },
    {
      "cell_type": "code",
      "metadata": {
        "id": "He6UNkWtOqMT",
        "colab_type": "code",
        "colab": {}
      },
      "source": [
        "#date converter\n",
        "def convert_to_last_day_of_quarter(val):\n",
        "  year, quarter = val.split(':')\n",
        "\n",
        " # convert year to int\n",
        "  year = int(year)\n",
        "\n",
        "  # convert quarter to int\n",
        "  quarter = int(quarter)\n",
        "\n",
        "  # convert to datetime\n",
        "  year_dt = datetime(year, 1, 1)\n",
        "\n",
        "  # get the last month of quarter\n",
        "  month = quarter * 3\n",
        "\n",
        "  # update datetime\n",
        "  last_day = year_dt.replace(month=month) + pd.tseries.offsets.QuarterEnd()\n",
        "\n",
        "  # return the last day of quarter in python's datetime object\n",
        "  return last_day.to_pydatetime()\n",
        "\n",
        "def convert_to_last_day_of_month(val):\n",
        "  year,month = val.split('-')\n",
        "  year = int(year)\n",
        "  month = int(month)\n",
        "  last_day = datetime(year,month,1) + pd.tseries.offsets.MonthEnd()\n",
        "  return last_day.to_pydatetime()\n",
        "\n",
        "\n"
      ],
      "execution_count": 0,
      "outputs": []
    },
    {
      "cell_type": "markdown",
      "metadata": {
        "id": "r01IQmzehV4F",
        "colab_type": "text"
      },
      "source": [
        "**Data Preview**"
      ]
    },
    {
      "cell_type": "code",
      "metadata": {
        "id": "Q16eIvwhum9V",
        "colab_type": "code",
        "outputId": "f74ab0f5-615a-483b-ad4a-2fa9519c617f",
        "colab": {
          "base_uri": "https://localhost:8080/",
          "height": 345
        }
      },
      "source": [
        "dq.info()"
      ],
      "execution_count": 0,
      "outputs": [
        {
          "output_type": "stream",
          "text": [
            "<class 'pandas.core.frame.DataFrame'>\n",
            "RangeIndex: 140 entries, 0 to 139\n",
            "Data columns (total 12 columns):\n",
            " #   Column                  Non-Null Count  Dtype  \n",
            "---  ------                  --------------  -----  \n",
            " 0   Date                    140 non-null    object \n",
            " 1   All Real Estate Loan    132 non-null    float64\n",
            " 2   Residential             116 non-null    float64\n",
            " 3   Commercial              116 non-null    float64\n",
            " 4   Farmland                116 non-null    float64\n",
            " 5   All Consumer            132 non-null    float64\n",
            " 6   Credit Card             116 non-null    float64\n",
            " 7   Other Consumer          116 non-null    float64\n",
            " 8   Leases                  132 non-null    float64\n",
            " 9   C&I Loans               132 non-null    float64\n",
            " 10  Agricultural Loans      132 non-null    float64\n",
            " 11  Total Loans and Leases  140 non-null    float64\n",
            "dtypes: float64(11), object(1)\n",
            "memory usage: 13.2+ KB\n"
          ],
          "name": "stdout"
        }
      ]
    },
    {
      "cell_type": "code",
      "metadata": {
        "id": "Q0hSoUjahan-",
        "colab_type": "code",
        "outputId": "a39b9c5a-4efd-441f-b7e8-0d901525f6cd",
        "colab": {
          "base_uri": "https://localhost:8080/",
          "height": 207
        }
      },
      "source": [
        "dqstate_30to89.info()\n",
        "dqstate_30to89.columns"
      ],
      "execution_count": 0,
      "outputs": [
        {
          "output_type": "stream",
          "text": [
            "<class 'pandas.core.frame.DataFrame'>\n",
            "RangeIndex: 52 entries, 0 to 51\n",
            "Columns: 144 entries, RegionType to 2019-09\n",
            "dtypes: float64(141), object(3)\n",
            "memory usage: 58.6+ KB\n"
          ],
          "name": "stdout"
        },
        {
          "output_type": "execute_result",
          "data": {
            "text/plain": [
              "Index(['RegionType', 'Name', 'FIPSCode', '2008-01', '2008-02', '2008-03',\n",
              "       '2008-04', '2008-05', '2008-06', '2008-07',\n",
              "       ...\n",
              "       '2018-12', '2019-01', '2019-02', '2019-03', '2019-04', '2019-05',\n",
              "       '2019-06', '2019-07', '2019-08', '2019-09'],\n",
              "      dtype='object', length=144)"
            ]
          },
          "metadata": {
            "tags": []
          },
          "execution_count": 74
        }
      ]
    },
    {
      "cell_type": "code",
      "metadata": {
        "id": "RnLjIdikueeU",
        "colab_type": "code",
        "colab": {}
      },
      "source": [
        "hpi['Date'] = hpi[['Year','Quarter']].astype(str).apply(lambda x:':'.join(x),axis=1)\n",
        "hpi['Date'] = hpi['Date'].apply(convert_to_last_day_of_quarter)\n"
      ],
      "execution_count": 0,
      "outputs": []
    },
    {
      "cell_type": "code",
      "metadata": {
        "id": "Rzy0aBAEutwh",
        "colab_type": "code",
        "outputId": "d9710870-225f-4e68-f0f1-a3a1724b75b4",
        "colab": {
          "base_uri": "https://localhost:8080/",
          "height": 345
        }
      },
      "source": [
        "unemployment.info()"
      ],
      "execution_count": 0,
      "outputs": [
        {
          "output_type": "stream",
          "text": [
            "<class 'pandas.core.frame.DataFrame'>\n",
            "Int64Index: 11 entries, 2010 to 2020\n",
            "Data columns (total 12 columns):\n",
            " #   Column  Non-Null Count  Dtype \n",
            "---  ------  --------------  ----- \n",
            " 0   Jan     11 non-null     object\n",
            " 1   Feb     11 non-null     object\n",
            " 2   Mar     11 non-null     object\n",
            " 3   Apr     10 non-null     object\n",
            " 4   May     10 non-null     object\n",
            " 5   Jun     10 non-null     object\n",
            " 6   Jul     10 non-null     object\n",
            " 7   Aug     10 non-null     object\n",
            " 8   Sep     10 non-null     object\n",
            " 9   Oct     10 non-null     object\n",
            " 10  Nov     10 non-null     object\n",
            " 11  Dec     10 non-null     object\n",
            "dtypes: object(12)\n",
            "memory usage: 1.1+ KB\n"
          ],
          "name": "stdout"
        }
      ]
    },
    {
      "cell_type": "markdown",
      "metadata": {
        "id": "e7FdJszUhu_h",
        "colab_type": "text"
      },
      "source": [
        "# **Data Cleaning**"
      ]
    },
    {
      "cell_type": "markdown",
      "metadata": {
        "id": "TKm7yVS0u5Ro",
        "colab_type": "text"
      },
      "source": [
        "Goal here is to convert the date to Year-Quarter, make column name to be consistent etc"
      ]
    },
    {
      "cell_type": "code",
      "metadata": {
        "id": "5ivjzaB_udlM",
        "colab_type": "code",
        "colab": {}
      },
      "source": [
        "#clean up deqlinquency data: adding year and quarter, and move them to the front\n",
        "#then drop Date column to index\n",
        "dq[['year','quarter']] = dq['Date'].str.split(':',expand=True)\n",
        "dq.year = dq.year.astype(int)\n",
        "dq.quarter = 'Q' + dq.quarter\n",
        "cols = dq.columns.tolist()\n",
        "cols = cols[-2:] + cols[:-2]\n",
        "dq = dq[cols]\n",
        "dq['Date'] = dq['Date'].apply(convert_to_last_day_of_quarter)\n",
        "dq.set_index('Date',drop = False, inplace = True)"
      ],
      "execution_count": 0,
      "outputs": []
    },
    {
      "cell_type": "code",
      "metadata": {
        "id": "nHTNMv0IhyJT",
        "colab_type": "code",
        "colab": {}
      },
      "source": [
        "# clean up delinquency data by states\n",
        "def state_abbrev(states):\n",
        "  us_state_abbrev = {\n",
        "      'Alabama': 'AL',\n",
        "      'Alaska': 'AK',\n",
        "      'American Samoa': 'AS',\n",
        "      'Arizona': 'AZ',\n",
        "      'Arkansas': 'AR',\n",
        "      'California': 'CA',\n",
        "      'Colorado': 'CO',\n",
        "      'Connecticut': 'CT',\n",
        "      'Delaware': 'DE',\n",
        "      'District of Columbia': 'DC',\n",
        "      'Florida': 'FL',\n",
        "      'Georgia': 'GA',\n",
        "      'Guam': 'GU',\n",
        "      'Hawaii': 'HI',\n",
        "      'Idaho': 'ID',\n",
        "      'Illinois': 'IL',\n",
        "      'Indiana': 'IN',\n",
        "      'Iowa': 'IA',\n",
        "      'Kansas': 'KS',\n",
        "      'Kentucky': 'KY',\n",
        "      'Louisiana': 'LA',\n",
        "      'Maine': 'ME',\n",
        "      'Maryland': 'MD',\n",
        "      'Massachusetts': 'MA',\n",
        "      'Michigan': 'MI',\n",
        "      'Minnesota': 'MN',\n",
        "      'Mississippi': 'MS',\n",
        "      'Missouri': 'MO',\n",
        "      'Montana': 'MT',\n",
        "      'Nebraska': 'NE',\n",
        "      'Nevada': 'NV',\n",
        "      'New Hampshire': 'NH',\n",
        "      'New Jersey': 'NJ',\n",
        "      'New Mexico': 'NM',\n",
        "      'New York': 'NY',\n",
        "      'North Carolina': 'NC',\n",
        "      'North Dakota': 'ND',\n",
        "      'Northern Mariana Islands':'MP',\n",
        "      'Ohio': 'OH',\n",
        "      'Oklahoma': 'OK',\n",
        "      'Oregon': 'OR',\n",
        "      'Pennsylvania': 'PA',\n",
        "      'Puerto Rico': 'PR',\n",
        "      'Rhode Island': 'RI',\n",
        "      'South Carolina': 'SC',\n",
        "      'South Dakota': 'SD',\n",
        "      'Tennessee': 'TN',\n",
        "      'Texas': 'TX',\n",
        "      'Utah': 'UT',\n",
        "      'Vermont': 'VT',\n",
        "      'Virgin Islands': 'VI',\n",
        "      'Virginia': 'VA',\n",
        "      'Washington': 'WA',\n",
        "      'West Virginia': 'WV',\n",
        "      'Wisconsin': 'WI',\n",
        "      'Wyoming': 'WY',\n",
        "      'United States': 'US'}\n",
        "  return us_state_abbrev.get(states,'Not Found')\n",
        "    \n",
        "\n",
        "dqstate_30to89['Name'] = dqstate_30to89['Name'].map(state_abbrev)\n",
        "dqstate_30to89.rename(columns={'Name':'States'},inplace=True)\n",
        "dqstate_30to89.set_index('States',drop=True,inplace=True)\n",
        "\n"
      ],
      "execution_count": 0,
      "outputs": []
    },
    {
      "cell_type": "code",
      "metadata": {
        "id": "p6lhb7zZAraX",
        "colab_type": "code",
        "colab": {}
      },
      "source": [
        "#transpose dataframe\n",
        "dqstate_30to89.drop(['RegionType','FIPSCode'],axis=1,inplace=True)\n",
        "dqstate_30to89 = dqstate_30to89.transpose()\n"
      ],
      "execution_count": 0,
      "outputs": []
    },
    {
      "cell_type": "code",
      "metadata": {
        "id": "Hxf5ZVrLDeek",
        "colab_type": "code",
        "colab": {}
      },
      "source": [
        "#convert obj to numeric in the dataframe\n",
        "cols = dqstate_30to89.columns\n",
        "dqstate_30to89[cols] = dqstate_30to89[cols].apply(pd.to_numeric,errors = 'coerce')\n",
        "\n",
        "dqstate_30to89.reset_index(inplace=True)\n",
        "dqstate_30to89['index'] = dqstate_30to89['index'].apply(convert_to_last_day_of_month)\n",
        "dqstate_30to89.set_index('index',drop = True,inplace=True)\n"
      ],
      "execution_count": 0,
      "outputs": []
    },
    {
      "cell_type": "code",
      "metadata": {
        "id": "4cL5xVduBXh0",
        "colab_type": "code",
        "colab": {}
      },
      "source": [
        "#"
      ],
      "execution_count": 0,
      "outputs": []
    },
    {
      "cell_type": "markdown",
      "metadata": {
        "id": "FiNTsV4GQaQ7",
        "colab_type": "text"
      },
      "source": [
        "# **Data Visualization**"
      ]
    },
    {
      "cell_type": "code",
      "metadata": {
        "id": "qeeMOL2HQgvF",
        "colab_type": "code",
        "outputId": "30a1a1ad-f041-4c06-94f5-9d94c687493b",
        "colab": {
          "base_uri": "https://localhost:8080/",
          "height": 296
        }
      },
      "source": [
        "#Graph delinquency data\n",
        "# plt.plot('Date','All Real Estate Loan',data = dq.head(100))\n",
        "# plt.title('All Real Estate Loan Delinquency Rate')\n",
        "# plt.ylabel('Delinquency Rate (%)')\n",
        "# plt.show()\n",
        "sns.lineplot('Date','All Real Estate Loan',data = dq.head(100),hue='quarter')\n"
      ],
      "execution_count": 0,
      "outputs": [
        {
          "output_type": "execute_result",
          "data": {
            "text/plain": [
              "<matplotlib.axes._subplots.AxesSubplot at 0x7f8bcdf9cac8>"
            ]
          },
          "metadata": {
            "tags": []
          },
          "execution_count": 82
        },
        {
          "output_type": "display_data",
          "data": {
            "image/png": "[encoded data removed]",
            "text/plain": [
              "<Figure size 432x288 with 1 Axes>"
            ]
          },
          "metadata": {
            "tags": [],
            "needs_background": "light"
          }
        }
      ]
    },
    {
      "cell_type": "code",
      "metadata": {
        "id": "V-1MBFwb10_T",
        "colab_type": "code",
        "outputId": "979912bf-a42e-44d1-c78a-1c6ee3f06454",
        "colab": {
          "base_uri": "https://localhost:8080/",
          "height": 298
        }
      },
      "source": [
        "#delinquency graph by state\n",
        "# plt.plot(dqstate_30to89.index.values,'US',data=dqstate_30to89)\n",
        "# plt.title('Delinquency Rate by State')\n",
        "# plt.ylabel('Delinquency Rate (%)')\n",
        "# plt.show()\n",
        "\n",
        "ax = sns.lineplot(x=dqstate_30to89.index.values,y='NY',data = dqstate_30to89)\n",
        "plt.title('Delinquency Rate by States')"
      ],
      "execution_count": 0,
      "outputs": [
        {
          "output_type": "execute_result",
          "data": {
            "text/plain": [
              "Text(0.5, 1.0, 'Delinquency Rate by States')"
            ]
          },
          "metadata": {
            "tags": []
          },
          "execution_count": 22
        },
        {
          "output_type": "display_data",
          "data": {
            "image/png": "[encoded data removed]",
            "text/plain": [
              "<Figure size 432x288 with 1 Axes>"
            ]
          },
          "metadata": {
            "tags": [],
            "needs_background": "light"
          }
        }
      ]
    },
    {
      "cell_type": "code",
      "metadata": {
        "id": "Gam2FMflA2Qp",
        "colab_type": "code",
        "outputId": "e2f3a58c-5330-4ea6-a309-9ac44c4797c0",
        "colab": {
          "base_uri": "https://localhost:8080/",
          "height": 296
        }
      },
      "source": [
        "#get subset of dataframe and merge two dataframe\n",
        "ny_hpi = hpi.loc[hpi['States']=='NY'].loc[hpi['Year']>2008]\n",
        "ny_hpi_dq = ny_hpi.join(dqstate_30to89['NY'],on='Date').rename(columns={'NY':'30-89 days Delinq'})\n",
        "\n",
        "ax = ny_hpi_dq.plot('Date','30-89 days Delinq')\n",
        "ny_hpi_dq.plot('Date','HPI',secondary_y=True,ax=ax)\n",
        "#sns.pairplot(ny_hpi_dq)\n",
        "ny_hpi_dq['30-89 days Delinq'].corr(ny_hpi_dq['HPI'])\n"
      ],
      "execution_count": 0,
      "outputs": [
        {
          "output_type": "execute_result",
          "data": {
            "text/plain": [
              "-0.7251715038781731"
            ]
          },
          "metadata": {
            "tags": []
          },
          "execution_count": 104
        },
        {
          "output_type": "display_data",
          "data": {
            "image/png": "[encoded data removed]",
            "text/plain": [
              "<Figure size 432x288 with 2 Axes>"
            ]
          },
          "metadata": {
            "tags": [],
            "needs_background": "light"
          }
        }
      ]
    }
  ]
}